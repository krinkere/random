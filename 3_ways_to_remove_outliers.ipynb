{
 "metadata": {
  "kernelspec": {
   "codemirror_mode": {
    "name": "ipython",
    "version": 3
   },
   "display_name": "IPython (Python 3)",
   "language": "python",
   "name": "python3"
  },
  "name": "",
  "signature": "sha256:56ee8b7ea5e38567dafb3c8b98bb3d6b2f93787914bb6ee7f7a978dec06fd473"
 },
 "nbformat": 3,
 "nbformat_minor": 0,
 "worksheets": [
  {
   "cells": [
    {
     "cell_type": "code",
     "collapsed": false,
     "input": [
      "import os\n",
      "from IPython.core.display import HTML\n",
      "\n",
      "with open('creative_commons.txt', 'r') as f:\n",
      "    html = f.read()\n",
      "    \n",
      "name = '2015-03-16-outlier_detection'\n",
      "\n",
      "html = '''\n",
      "<small>\n",
      "<p> This post was written as an IPython notebook.\n",
      " It is available for <a href='https://ocefpaf.github.com/python4oceanographers/downloads/notebooks/%s.ipynb'>download</a>\n",
      " or as a static <a href='https://nbviewer.ipython.org/url/ocefpaf.github.com/python4oceanographers/downloads/notebooks/%s.ipynb'>html</a>.</p>\n",
      "<p></p>\n",
      "%s''' % (name, name, html)\n",
      "\n",
      "%matplotlib inline\n",
      "from matplotlib import style\n",
      "style.use('ggplot')\n",
      "\n",
      "from datetime import datetime\n",
      "\n",
      "title = \"3 ways to remove outliers from your data\"\n",
      "hour = datetime.utcnow().strftime('%H:%M')\n",
      "comments=\"true\"\n",
      "\n",
      "date = '-'.join(name.split('-')[:3])\n",
      "slug = '-'.join(name.split('-')[3:])\n",
      "\n",
      "metadata = dict(title=title,\n",
      "                date=date,\n",
      "                hour=hour,\n",
      "                comments=comments,\n",
      "                slug=slug,\n",
      "                name=name)\n",
      "\n",
      "markdown = \"\"\"Title: {title}\n",
      "date:  {date} {hour}\n",
      "comments: {comments}\n",
      "slug: {slug}\n",
      "\n",
      "{{% notebook {name}.ipynb cells[1:] %}}\n",
      "\"\"\".format(**metadata)\n",
      "\n",
      "content = os.path.abspath(os.path.join(os.getcwd(), os.pardir, os.pardir, '{}.md'.format(name)))\n",
      "with open('{}'.format(content), 'w') as f:\n",
      "    f.writelines(markdown)"
     ],
     "language": "python",
     "metadata": {},
     "outputs": [],
     "prompt_number": 1
    },
    {
     "cell_type": "markdown",
     "metadata": {},
     "source": [
      "According to Google Analytics, my post\n",
      "[\"Dealing with spiky data\"](https://ocefpaf.github.io/python4oceanographers/blog/2013/05/20/spikes),\n",
      "is by far the most visited on the blog.  I think that the reasons are: it is\n",
      "one of the oldest posts, and it is a real problem that people have to deal everyday.\n",
      "\n",
      "Recently I found an amazing series of post writing by Bugra on how to perform\n",
      "outlier detection using\n",
      "[FFT, median filtering](http://bugra.github.io/work/notes/2014-03-31/outlier-detection-in-time-series-signals-fft-median-filtering/),\n",
      "[Gaussian processes](http://bugra.github.io/work/notes/2014-05-11/robust-regression-and-outlier-detection-via-gaussian-processes/),\n",
      "and [MCMC](http://bugra.github.io/work/notes/2014-04-26/outlier-detection-markov-chain-monte-carlo-via-pymc/)\n",
      "\n",
      "I will test out the low hanging fruit (FFT and median filtering) using the same\n",
      "data from my [original post](https://ocefpaf.github.io/python4oceanographers/blog/2013/05/20/spikes)."
     ]
    },
    {
     "cell_type": "code",
     "collapsed": false,
     "input": [
      "from datetime import datetime\n",
      "from pandas import read_table\n",
      "\n",
      "fname = './data/spikey_v.dat'\n",
      "cols = ['j', 'u', 'v', 'temp', 'sal', 'y', 'mn', 'd', 'h', 'mi']\n",
      "\n",
      "df = read_table(fname , delim_whitespace=True, names=cols)\n",
      "\n",
      "df.index = [datetime(*x) for x in zip(df['y'], df['mn'], df['d'], df['h'], df['mi'])]\n",
      "df = df.drop(['y', 'mn', 'd', 'h', 'mi'], axis=1)\n",
      "\n",
      "df.head()"
     ],
     "language": "python",
     "metadata": {},
     "outputs": [
      {
       "html": [
        "<div style=\"max-height:1000px;max-width:1500px;overflow:auto;\">\n",
        "<table border=\"1\" class=\"dataframe\">\n",
        "  <thead>\n",
        "    <tr style=\"text-align: right;\">\n",
        "      <th></th>\n",
        "      <th>j</th>\n",
        "      <th>u</th>\n",
        "      <th>v</th>\n",
        "      <th>temp</th>\n",
        "      <th>sal</th>\n",
        "    </tr>\n",
        "  </thead>\n",
        "  <tbody>\n",
        "    <tr>\n",
        "      <th>1994-11-22 04:00:00</th>\n",
        "      <td> 1056.1667</td>\n",
        "      <td>-0.1</td>\n",
        "      <td> 0.0</td>\n",
        "      <td> 23.9</td>\n",
        "      <td> 34.6</td>\n",
        "    </tr>\n",
        "    <tr>\n",
        "      <th>1994-11-22 05:00:00</th>\n",
        "      <td> 1056.2083</td>\n",
        "      <td>-0.2</td>\n",
        "      <td> 0.7</td>\n",
        "      <td> 23.9</td>\n",
        "      <td> 34.6</td>\n",
        "    </tr>\n",
        "    <tr>\n",
        "      <th>1994-11-22 06:00:00</th>\n",
        "      <td> 1056.2500</td>\n",
        "      <td>-0.1</td>\n",
        "      <td> 2.0</td>\n",
        "      <td> 23.9</td>\n",
        "      <td> 34.6</td>\n",
        "    </tr>\n",
        "    <tr>\n",
        "      <th>1994-11-22 07:00:00</th>\n",
        "      <td> 1056.2917</td>\n",
        "      <td> 0.0</td>\n",
        "      <td> 3.1</td>\n",
        "      <td> 23.9</td>\n",
        "      <td> 34.6</td>\n",
        "    </tr>\n",
        "    <tr>\n",
        "      <th>1994-11-22 08:00:00</th>\n",
        "      <td> 1056.3333</td>\n",
        "      <td>-0.1</td>\n",
        "      <td> 2.7</td>\n",
        "      <td> 23.9</td>\n",
        "      <td> 34.6</td>\n",
        "    </tr>\n",
        "  </tbody>\n",
        "</table>\n",
        "</div>"
       ],
       "metadata": {},
       "output_type": "pyout",
       "prompt_number": 2,
       "text": [
        "                             j    u    v  temp   sal\n",
        "1994-11-22 04:00:00  1056.1667 -0.1  0.0  23.9  34.6\n",
        "1994-11-22 05:00:00  1056.2083 -0.2  0.7  23.9  34.6\n",
        "1994-11-22 06:00:00  1056.2500 -0.1  2.0  23.9  34.6\n",
        "1994-11-22 07:00:00  1056.2917  0.0  3.1  23.9  34.6\n",
        "1994-11-22 08:00:00  1056.3333 -0.1  2.7  23.9  34.6"
       ]
      }
     ],
     "prompt_number": 2
    },
    {
     "cell_type": "markdown",
     "metadata": {},
     "source": [
      "Starting with Bugra's `get_median_filtered()` we have:"
     ]
    },
    {
     "cell_type": "code",
     "collapsed": false,
     "input": [
      "import numpy as np\n",
      "\n",
      "\n",
      "def get_median_filtered(signal, threshold=3):\n",
      "    signal = signal.copy()\n",
      "    difference = np.abs(signal - np.median(signal))\n",
      "    median_difference = np.median(difference)\n",
      "    if median_difference == 0:\n",
      "        s = 0\n",
      "    else:\n",
      "        s = difference / float(median_difference)\n",
      "    mask = s > threshold\n",
      "    signal[mask] = np.median(signal)\n",
      "    return signal"
     ],
     "language": "python",
     "metadata": {},
     "outputs": [],
     "prompt_number": 3
    },
    {
     "cell_type": "code",
     "collapsed": false,
     "input": [
      "import matplotlib.pyplot as plt\n",
      "\n",
      "figsize = (7, 2.75)\n",
      "kw = dict(marker='o', linestyle='none', color='r', alpha=0.3)\n",
      "\n",
      "df['u_medf'] = get_median_filtered(df['u'].values, threshold=3)\n",
      "\n",
      "outlier_idx = np.where(df['u_medf'].values != df['u'].values)[0]\n",
      "\n",
      "fig, ax = plt.subplots(figsize=figsize)\n",
      "df['u'].plot()\n",
      "df['u'][outlier_idx].plot(**kw)\n",
      "_ = ax.set_ylim(-50, 50)"
     ],
     "language": "python",
     "metadata": {},
     "outputs": [
      {
       "metadata": {},
       "output_type": "display_data",
       "png": "[encoded data removed]",
       "text": [
        "<matplotlib.figure.Figure at 0x7f714c38aad0>"
       ]
      }
     ],
     "prompt_number": 4
    },
    {
     "cell_type": "markdown",
     "metadata": {},
     "source": [
      "Not bad.  Still, it missed the two lower spikes. Let's go for the\n",
      "`detect_outlier_position_by_fft()`."
     ]
    },
    {
     "cell_type": "code",
     "collapsed": false,
     "input": [
      "def detect_outlier_position_by_fft(signal, threshold_freq=0.1,\n",
      "                                   frequency_amplitude=.001):\n",
      "    signal = signal.copy()\n",
      "    fft_of_signal = np.fft.fft(signal)\n",
      "    outlier = np.max(signal) if abs(np.max(signal)) > abs(np.min(signal)) else np.min(signal)\n",
      "    if np.any(np.abs(fft_of_signal[threshold_freq:]) > frequency_amplitude):\n",
      "        index_of_outlier = np.where(signal == outlier)\n",
      "        return index_of_outlier[0]\n",
      "    else:\n",
      "        return None"
     ],
     "language": "python",
     "metadata": {},
     "outputs": [],
     "prompt_number": 5
    },
    {
     "cell_type": "code",
     "collapsed": false,
     "input": [
      "outlier_idx = []\n",
      "\n",
      "y = df['u'].values\n",
      "\n",
      "opt = dict(threshold_freq=0.01, frequency_amplitude=0.001)\n",
      "\n",
      "win = 20\n",
      "for k in range(win*2, y.size, win):\n",
      "    idx = detect_outlier_position_by_fft(y[k-win:k+win], **opt)\n",
      "    if idx is not None:\n",
      "        outlier_idx.append(k + idx[0] - win)\n",
      "outlier_idx = list(set(outlier_idx))\n",
      "\n",
      "fig, ax = plt.subplots(figsize=(7, 2.75))\n",
      "\n",
      "df['u'].plot()\n",
      "df['u'][outlier_idx].plot(**kw)\n",
      "_ = ax.set_ylim(-50, 50)"
     ],
     "language": "python",
     "metadata": {},
     "outputs": [
      {
       "metadata": {},
       "output_type": "display_data",
       "png": "[encoded data removed]",
       "text": [
        "<matplotlib.figure.Figure at 0x7f712a301b50>"
       ]
      }
     ],
     "prompt_number": 6
    },
    {
     "cell_type": "markdown",
     "metadata": {},
     "source": [
      "Not sure if this method is the best here... Maybe if the signal was\n",
      "contaminated by high frequency noise this method would perform better.\n",
      "\n",
      "Inspired by Bugra's median filter let's try a `rolling_median` filter using pandas."
     ]
    },
    {
     "cell_type": "code",
     "collapsed": false,
     "input": [
      "from pandas import rolling_median\n",
      "\n",
      "threshold = 3\n",
      "df['pandas'] = rolling_median(df['u'], window=3, center=True).fillna(method='bfill').fillna(method='ffill')\n",
      "\n",
      "difference = np.abs(df['u'] - df['pandas'])\n",
      "outlier_idx = difference > threshold\n",
      "\n",
      "fig, ax = plt.subplots(figsize=figsize)\n",
      "df['u'].plot()\n",
      "df['u'][outlier_idx].plot(**kw)\n",
      "_ = ax.set_ylim(-50, 50)"
     ],
     "language": "python",
     "metadata": {},
     "outputs": [
      {
       "metadata": {},
       "output_type": "display_data",
       "png": "[encoded data removed]",
       "text": [
        "<matplotlib.figure.Figure at 0x7f714fa80bd0>"
       ]
      }
     ],
     "prompt_number": 7
    },
    {
     "cell_type": "markdown",
     "metadata": {},
     "source": [
      "**Update:** A friend, that knows this data, challenged me to use the same\n",
      "technique on $v$.  Here it is:"
     ]
    },
    {
     "cell_type": "code",
     "collapsed": false,
     "input": [
      "df['pandas'] = rolling_median(df['v'], window=3, center=True).fillna(method='bfill').fillna(method='ffill')\n",
      "\n",
      "difference = np.abs(df['v'] - df['pandas'])\n",
      "outlier_2 = difference > 2\n",
      "outlier_3 = difference > 3\n",
      "\n",
      "fig, ax = plt.subplots(figsize=figsize)\n",
      "df['v'].plot()\n",
      "df['v'][outlier_2].plot(**kw)\n",
      "kw.update(color='g', marker='*', alpha=1)\n",
      "df['v'][outlier_3].plot(**kw)\n",
      "_ = ax.set_ylim(-50, 60)"
     ],
     "language": "python",
     "metadata": {},
     "outputs": [
      {
       "metadata": {},
       "output_type": "display_data",
       "png": "[encoded data removed]",
       "text": [
        "<matplotlib.figure.Figure at 0x7f714fe376d0>"
       ]
      }
     ],
     "prompt_number": 8
    },
    {
     "cell_type": "markdown",
     "metadata": {},
     "source": [
      "Note that I had to reduce the threshold from 3 -> 2 to get them all."
     ]
    },
    {
     "cell_type": "code",
     "collapsed": false,
     "input": [
      "HTML(html)"
     ],
     "language": "python",
     "metadata": {},
     "outputs": [
      {
       "html": [
        "\n",
        "<small>\n",
        "<p> This post was written as an IPython notebook.\n",
        " It is available for <a href='https://ocefpaf.github.com/python4oceanographers/downloads/notebooks/2015-03-16-outlier_detection.ipynb'>download</a>\n",
        " or as a static <a href='https://nbviewer.ipython.org/url/ocefpaf.github.com/python4oceanographers/downloads/notebooks/2015-03-16-outlier_detection.ipynb'>html</a>.</p>\n",
        "<p></p>\n",
        "<a rel=\"license\" href=\"https://creativecommons.org/licenses/by-sa/4.0/\"><img\n",
        "alt=\"Creative Commons License\" style=\"border-width:0\"\n",
        "src=\"https://i.creativecommons.org/l/by-sa/4.0/88x31.png\" /></a><br /><span\n",
        "xmlns:dct=\"https://purl.org/dc/terms/\"\n",
        "property=\"dct:title\">python4oceanographers</span> by <a\n",
        "xmlns:cc=\"https://creativecommons.org/ns#\" href=\"https://ocefpaf.github.io/\"\n",
        "property=\"cc:attributionName\" rel=\"cc:attributionURL\">Filipe Fernandes</a> is\n",
        "licensed under a <a rel=\"license\"\n",
        "href=\"https://creativecommons.org/licenses/by-sa/4.0/\">Creative Commons\n",
        "Attribution-ShareAlike 4.0 International License</a>.<br />Based on a work at <a\n",
        "xmlns:dct=\"https://purl.org/dc/terms/\" href=\"https://ocefpaf.github.io/\"\n",
        "rel=\"dct:source\">https://ocefpaf.github.io/</a>.\n"
       ],
       "metadata": {},
       "output_type": "pyout",
       "prompt_number": 9,
       "text": [
        "<IPython.core.display.HTML at 0x7fd3fdba5490>"
       ]
      }
     ],
     "prompt_number": 9
    }
   ],
   "metadata": {}
  }
 ]
}